{
 "cells": [
  {
   "cell_type": "code",
   "execution_count": 29,
   "id": "347a2174",
   "metadata": {},
   "outputs": [
    {
     "name": "stdout",
     "output_type": "stream",
     "text": [
      "Requirement already satisfied: scipy in /Users/vanessawilson/sbox/test/DA_DA430/lib/python3.9/site-packages (1.7.1)\n",
      "Requirement already satisfied: numpy<1.23.0,>=1.16.5 in /Users/vanessawilson/sbox/test/DA_DA430/lib/python3.9/site-packages (from scipy) (1.21.2)\n",
      "Note: you may need to restart the kernel to use updated packages.\n",
      "Requirement already satisfied: numpy in /Users/vanessawilson/sbox/test/DA_DA430/lib/python3.9/site-packages (1.21.2)\n",
      "Note: you may need to restart the kernel to use updated packages.\n",
      "Requirement already satisfied: seaborn in /Users/vanessawilson/sbox/test/DA_DA430/lib/python3.9/site-packages (0.11.2)\n",
      "Requirement already satisfied: pandas>=0.23 in /Users/vanessawilson/sbox/test/DA_DA430/lib/python3.9/site-packages (from seaborn) (1.3.4)\n",
      "Requirement already satisfied: matplotlib>=2.2 in /Users/vanessawilson/sbox/test/DA_DA430/lib/python3.9/site-packages (from seaborn) (3.5.0)\n",
      "Requirement already satisfied: scipy>=1.0 in /Users/vanessawilson/sbox/test/DA_DA430/lib/python3.9/site-packages (from seaborn) (1.7.1)\n",
      "Requirement already satisfied: numpy>=1.15 in /Users/vanessawilson/sbox/test/DA_DA430/lib/python3.9/site-packages (from seaborn) (1.21.2)\n",
      "Requirement already satisfied: fonttools>=4.22.0 in /Users/vanessawilson/sbox/test/DA_DA430/lib/python3.9/site-packages (from matplotlib>=2.2->seaborn) (4.28.1)\n",
      "Requirement already satisfied: pillow>=6.2.0 in /Users/vanessawilson/sbox/test/DA_DA430/lib/python3.9/site-packages (from matplotlib>=2.2->seaborn) (8.4.0)\n",
      "Requirement already satisfied: python-dateutil>=2.7 in /Users/vanessawilson/sbox/test/DA_DA430/lib/python3.9/site-packages (from matplotlib>=2.2->seaborn) (2.8.2)\n",
      "Requirement already satisfied: packaging>=20.0 in /Users/vanessawilson/sbox/test/DA_DA430/lib/python3.9/site-packages (from matplotlib>=2.2->seaborn) (21.0)\n",
      "Requirement already satisfied: pyparsing>=2.2.1 in /Users/vanessawilson/sbox/test/DA_DA430/lib/python3.9/site-packages (from matplotlib>=2.2->seaborn) (2.4.7)\n",
      "Requirement already satisfied: kiwisolver>=1.0.1 in /Users/vanessawilson/sbox/test/DA_DA430/lib/python3.9/site-packages (from matplotlib>=2.2->seaborn) (1.3.2)\n",
      "Requirement already satisfied: setuptools-scm>=4 in /Users/vanessawilson/sbox/test/DA_DA430/lib/python3.9/site-packages (from matplotlib>=2.2->seaborn) (6.3.2)\n",
      "Requirement already satisfied: cycler>=0.10 in /Users/vanessawilson/sbox/test/DA_DA430/lib/python3.9/site-packages (from matplotlib>=2.2->seaborn) (0.11.0)\n",
      "Requirement already satisfied: pytz>=2017.3 in /Users/vanessawilson/sbox/test/DA_DA430/lib/python3.9/site-packages (from pandas>=0.23->seaborn) (2021.3)\n",
      "Requirement already satisfied: six>=1.5 in /Users/vanessawilson/sbox/test/DA_DA430/lib/python3.9/site-packages (from python-dateutil>=2.7->matplotlib>=2.2->seaborn) (1.16.0)\n",
      "Requirement already satisfied: tomli>=1.0.0 in /Users/vanessawilson/sbox/test/DA_DA430/lib/python3.9/site-packages (from setuptools-scm>=4->matplotlib>=2.2->seaborn) (1.2.2)\n",
      "Requirement already satisfied: setuptools in /Users/vanessawilson/sbox/test/DA_DA430/lib/python3.9/site-packages (from setuptools-scm>=4->matplotlib>=2.2->seaborn) (58.2.0)\n",
      "Note: you may need to restart the kernel to use updated packages.\n",
      "Requirement already satisfied: pip in /Users/vanessawilson/sbox/test/DA_DA430/lib/python3.9/site-packages (21.3.1)\n",
      "Note: you may need to restart the kernel to use updated packages.\n"
     ]
    }
   ],
   "source": [
    "%pip install scipy\n",
    "%pip install numpy\n",
    "%pip install seaborn\n",
    "%pip install --upgrade pip"
   ]
  },
  {
   "cell_type": "code",
   "execution_count": 30,
   "id": "1f262e42",
   "metadata": {},
   "outputs": [
    {
     "name": "stderr",
     "output_type": "stream",
     "text": [
      "/Users/vanessawilson/sbox/test/DA_DA430/lib/python3.9/site-packages/seaborn/distributions.py:2619: FutureWarning: `distplot` is a deprecated function and will be removed in a future version. Please adapt your code to use either `displot` (a figure-level function with similar flexibility) or `histplot` (an axes-level function for histograms).\n",
      "  warnings.warn(msg, FutureWarning)\n",
      "/Users/vanessawilson/sbox/test/DA_DA430/lib/python3.9/site-packages/seaborn/distributions.py:2619: FutureWarning: `distplot` is a deprecated function and will be removed in a future version. Please adapt your code to use either `displot` (a figure-level function with similar flexibility) or `histplot` (an axes-level function for histograms).\n",
      "  warnings.warn(msg, FutureWarning)\n"
     ]
    },
    {
     "data": {
      "text/plain": [
       "<AxesSubplot:ylabel='Density'>"
      ]
     },
     "execution_count": 30,
     "metadata": {},
     "output_type": "execute_result"
    },
    {
     "data": {
      "image/png": "[encoded data removed]",
      "text/plain": [
       "<Figure size 432x288 with 1 Axes>"
      ]
     },
     "metadata": {
      "needs_background": "light"
     },
     "output_type": "display_data"
    }
   ],
   "source": [
    "import seaborn as sns, numpy as np\n",
    "from scipy import stats \n",
    "import numpy as np\n",
    "\n",
    "Null_Hypothesis = \"YieldA = YieldB\"\n",
    "Alternate_Hypothesis = \"YieldA != YieldB\"\n",
    "\n",
    "YieldA = [452,874,554,447,356,754,558,574,664,682,547,435,245,665,546,537]\n",
    "YieldB = [546,547,774,465,459,665,467,365,589,534,456,651,654]\n",
    "\n",
    "x1 = YieldA\n",
    "x2 = YieldB\n",
    "\n",
    "sns.distplot(YieldA,hist=True)\n",
    "sns.distplot(YieldB,hist=True)"
   ]
  },
  {
   "cell_type": "code",
   "execution_count": 31,
   "id": "015f5956",
   "metadata": {},
   "outputs": [
    {
     "data": {
      "text/plain": [
       "Ttest_indResult(statistic=0.07691173581965646, pvalue=0.9392608755034981)"
      ]
     },
     "execution_count": 31,
     "metadata": {},
     "output_type": "execute_result"
    }
   ],
   "source": [
    "alpha = 0.05                                                 # significance level = 5%\n",
    "n1, n2 = len(x1), len(x2)                                    # sample sizes\n",
    "s1, s2 = np.var(x1, ddof=1), np.var(x2, ddof=1)              # sample variances\n",
    "s = np.sqrt(((n1 - 1) * s1 + (n2 - 1) * s2) / (n1 + n2 - 2)) # pooled standard deviation\n",
    "df = n1 + n2 - 2                                             # degrees of freedom\n",
    "t = stats.t.ppf(1 - alpha/2, df)                             # t-critical value for 95% CI\n",
    "stats.ttest_ind(x1, x2, equal_var=True)\n",
    "\n",
    "#lower = (np.mean(x1) - np.mean(x2)) - t * np.sqrt(1 / len(x1) + 1 / len(x2)) * s\n",
    "#upper = (np.mean(x1) - np.mean(x2)) + t * np.sqrt(1 / len(x1) + 1 / len(x2)) * s"
   ]
  },
  {
   "cell_type": "code",
   "execution_count": 32,
   "id": "79de4dae",
   "metadata": {},
   "outputs": [
    {
     "name": "stdout",
     "output_type": "stream",
     "text": [
      "YieldA Sample Size = 16\n",
      "YieldB Sample Size = 13\n",
      "YieldA Sample Variance = 23645.316666666666\n",
      "YieldB Sample Variance = 12636.564102564103\n",
      "Alpha = 0.05\n",
      "Pooled Standard Deviation = 136.93990561296494\n",
      "Degrees of Freedom = 27\n",
      "Alpha = 0.05\n",
      "t-critical value for 95% CI = 2.0518305164802833\n"
     ]
    }
   ],
   "source": [
    "#print(\"Lower = \" + str(lower))\n",
    "#print(\"Upper = \" + str(upper))\n",
    "print(\"YieldA Sample Size = \" + str(n1))\n",
    "print(\"YieldB Sample Size = \" + str(n2))\n",
    "print(\"YieldA Sample Variance = \" + str(s1))\n",
    "print(\"YieldB Sample Variance = \" + str(s2))\n",
    "print(\"Alpha = \" + str(alpha))\n",
    "print(\"Pooled Standard Deviation = \" + str(s))\n",
    "print(\"Degrees of Freedom = \" + str(df))\n",
    "print(\"Alpha = \" + str(alpha))\n",
    "print(\"t-critical value for 95% CI = \" + str(t))\n"
   ]
  },
  {
   "cell_type": "code",
   "execution_count": 33,
   "id": "4a336f56",
   "metadata": {},
   "outputs": [
    {
     "name": "stdout",
     "output_type": "stream",
     "text": [
      "0.07945439866065371 0.9372625441251021\n"
     ]
    },
    {
     "ename": "TypeError",
     "evalue": "list indices must be integers or slices, not str",
     "output_type": "error",
     "traceback": [
      "\u001b[0;31m---------------------------------------------------------------------------\u001b[0m",
      "\u001b[0;31mTypeError\u001b[0m                                 Traceback (most recent call last)",
      "\u001b[0;32m/var/folders/m3/jsfh6v792_bg33tq9dyqyv200000gn/T/ipykernel_10809/4151406397.py\u001b[0m in \u001b[0;36m<module>\u001b[0;34m\u001b[0m\n\u001b[1;32m      2\u001b[0m \u001b[0mprint\u001b[0m\u001b[0;34m(\u001b[0m\u001b[0mr\u001b[0m\u001b[0;34m.\u001b[0m\u001b[0mstatistic\u001b[0m\u001b[0;34m,\u001b[0m \u001b[0mr\u001b[0m\u001b[0;34m.\u001b[0m\u001b[0mpvalue\u001b[0m\u001b[0;34m)\u001b[0m\u001b[0;34m\u001b[0m\u001b[0;34m\u001b[0m\u001b[0m\n\u001b[1;32m      3\u001b[0m \u001b[0;34m\u001b[0m\u001b[0m\n\u001b[0;32m----> 4\u001b[0;31m \u001b[0mA_mean_pts\u001b[0m \u001b[0;34m=\u001b[0m \u001b[0mYieldA\u001b[0m\u001b[0;34m[\u001b[0m\u001b[0;34m'pts'\u001b[0m\u001b[0;34m]\u001b[0m\u001b[0;34m.\u001b[0m\u001b[0mmean\u001b[0m\u001b[0;34m(\u001b[0m\u001b[0;34m)\u001b[0m\u001b[0;34m\u001b[0m\u001b[0;34m\u001b[0m\u001b[0m\n\u001b[0m\u001b[1;32m      5\u001b[0m \u001b[0mB_mean_pts\u001b[0m \u001b[0;34m=\u001b[0m \u001b[0mYieldB\u001b[0m\u001b[0;34m[\u001b[0m\u001b[0;34m'pts'\u001b[0m\u001b[0;34m]\u001b[0m\u001b[0;34m.\u001b[0m\u001b[0mmean\u001b[0m\u001b[0;34m(\u001b[0m\u001b[0;34m)\u001b[0m\u001b[0;34m\u001b[0m\u001b[0;34m\u001b[0m\u001b[0m\n\u001b[1;32m      6\u001b[0m \u001b[0;34m\u001b[0m\u001b[0m\n",
      "\u001b[0;31mTypeError\u001b[0m: list indices must be integers or slices, not str"
     ]
    }
   ],
   "source": [
    "r = stats.ttest_ind(YieldA, YieldB, equal_var=False)\n",
    "print(r.statistic, r.pvalue)\n",
    "\n",
    "A_mean_pts = YieldA['pts'].mean()\n",
    "B_mean_pts = YieldB['pts'].mean()\n",
    "\n",
    "print(\"Mean Points =\",A_mean_pts)\n",
    "print(\"Mean Points =\",B_mean_pts)\n",
    "\n",
    "tstat, pval = ttest_1samp(YieldA['pts'], 110)\n",
    "print('T Stat = %.2f, P Value = %.4f' % (tstat, pval))\n",
    "if pval < 0.01:\n",
    "    print(\"Reject the null hypothesis\")\n",
    "else:\n",
    "    print(\"Accept the null hypothesis\")"
   ]
  },
  {
   "cell_type": "code",
   "execution_count": null,
   "id": "7ee63138",
   "metadata": {},
   "outputs": [],
   "source": [
    "f"
   ]
  },
  {
   "cell_type": "code",
   "execution_count": null,
   "id": "4e82071f",
   "metadata": {},
   "outputs": [],
   "source": []
  },
  {
   "cell_type": "code",
   "execution_count": null,
   "id": "1268a5e9",
   "metadata": {},
   "outputs": [],
   "source": []
  }
 ],
 "metadata": {
  "kernelspec": {
   "display_name": "PyCharm (DA_DA430)",
   "language": "python",
   "name": "pycharm-69b0bc48"
  },
  "language_info": {
   "codemirror_mode": {
    "name": "ipython",
    "version": 3
   },
   "file_extension": ".py",
   "mimetype": "text/x-python",
   "name": "python",
   "nbconvert_exporter": "python",
   "pygments_lexer": "ipython3",
   "version": "3.9.7"
  }
 },
 "nbformat": 4,
 "nbformat_minor": 5
}
